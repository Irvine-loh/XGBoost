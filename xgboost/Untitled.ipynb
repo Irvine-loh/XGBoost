{
 "cells": [
  {
   "cell_type": "markdown",
   "id": "2dba9e06",
   "metadata": {},
   "source": [
    "## Time Series Forecasting with Xgboost\n",
    "\n",
    "https://www.youtube.com/watch?v=Wsfz3i1AXzY\n",
    "\n",
    "\n",
    "code : https://github.com/ajhalthor/Time-Series-Forecasting/blob/main/Order%20Forecasting.ipynb"
   ]
  },
  {
   "cell_type": "code",
   "execution_count": null,
   "id": "6ce4b4df",
   "metadata": {},
   "outputs": [],
   "source": []
  }
 ],
 "metadata": {
  "kernelspec": {
   "display_name": "Python 3 (ipykernel)",
   "language": "python",
   "name": "python3"
  },
  "language_info": {
   "codemirror_mode": {
    "name": "ipython",
    "version": 3
   },
   "file_extension": ".py",
   "mimetype": "text/x-python",
   "name": "python",
   "nbconvert_exporter": "python",
   "pygments_lexer": "ipython3",
   "version": "3.8.0"
  }
 },
 "nbformat": 4,
 "nbformat_minor": 5
}
